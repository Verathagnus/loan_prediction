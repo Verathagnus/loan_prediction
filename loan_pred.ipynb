{
  "nbformat": 4,
  "nbformat_minor": 0,
  "metadata": {
    "colab": {
      "name": "loan-pred.ipynb",
      "provenance": []
    },
    "kernelspec": {
      "name": "python3",
      "display_name": "Python 3"
    },
    "language_info": {
      "name": "python"
    }
  },
  "cells": [
    {
      "cell_type": "code",
      "metadata": {
        "colab": {
          "base_uri": "https://localhost:8080/"
        },
        "id": "74NXhrHVwP2P",
        "outputId": "823df103-9396-4fb6-8db5-d509301bebeb"
      },
      "source": [
        "cd /content/drive/MyDrive/loan_prediction/dataset/"
      ],
      "execution_count": null,
      "outputs": [
        {
          "output_type": "stream",
          "text": [
            "/content/drive/MyDrive/loan_prediction/dataset\n"
          ],
          "name": "stdout"
        }
      ]
    },
    {
      "cell_type": "code",
      "metadata": {
        "id": "Y_I7NMCjwc6h"
      },
      "source": [
        "import pandas as pd\n",
        "import numpy as np\n",
        "from sklearn import preprocessing\n",
        "from sklearn.preprocessing import LabelEncoder, OneHotEncoder"
      ],
      "execution_count": null,
      "outputs": []
    },
    {
      "cell_type": "code",
      "metadata": {
        "id": "xUPZx8DDwc9t"
      },
      "source": [
        "df = pd.read_csv(\"train.csv\")\n",
        "test = pd.read_csv(\"test.csv\")"
      ],
      "execution_count": null,
      "outputs": []
    },
    {
      "cell_type": "code",
      "metadata": {
        "id": "O5P-6CGz8s3Q"
      },
      "source": [
        "#Identify categorical and continuous variables\n",
        "ID_col = ['Customer ID']\n",
        "target_col = [\"Loan Sanction Amount (USD)\"]\n",
        "cat_cols = ['Gender','Income Stability','Profession','Type of Employment','Location','Expense Type 1','Expense Type 2','Has Active Credit Card','Property Type','Property Location','Co-Applicant']"
      ],
      "execution_count": null,
      "outputs": []
    },
    {
      "cell_type": "code",
      "metadata": {
        "id": "O2N1Q8YAaWkk"
      },
      "source": [
        "#Imputing Missing values with mean for continuous variable\n",
        "df['Property Age'].fillna(df['Property Age'].mean(), inplace=True)\n",
        "df['Loan Sanction Amount (USD)'].fillna(df['Loan Sanction Amount (USD)'].mean(), inplace=True)\n",
        "df['Income (USD)'].fillna(df['Income (USD)'].mean(), inplace=True)\n",
        "df['Dependents'].fillna(df['Dependents'].mean(), inplace=True)\n",
        "df['Credit Score'].fillna(df['Credit Score'].mean(), inplace=True)\n",
        "df['Current Loan Expenses (USD)'].fillna(df['Current Loan Expenses (USD)'].mean(), inplace=True)\n",
        "#Imputing Missing values with mode for categorical variables\n",
        "df['Gender'].fillna(df['Gender'].mode()[0], inplace=True)\n",
        "df['Income Stability'].fillna(df['Income Stability'].mode()[0], inplace=True)\n",
        "df['Property Location'].fillna(df['Property Location'].mode()[0], inplace=True)\n",
        "df['Type of Employment'].fillna(df['Type of Employment'].mode()[0], inplace=True)\n",
        "df['Has Active Credit Card'].fillna(df['Has Active Credit Card'].mode()[0], inplace=True)"
      ],
      "execution_count": null,
      "outputs": []
    },
    {
      "cell_type": "code",
      "metadata": {
        "id": "Osiib960ahUL"
      },
      "source": [
        "#Imputing Missing values with mean for continuous variable\n",
        "test['Property Age'].fillna(test['Property Age'].mean(), inplace=True)\n",
        "test['Income (USD)'].fillna(test['Income (USD)'].mean(), inplace=True)\n",
        "test['Dependents'].fillna(test['Dependents'].mean(), inplace=True)\n",
        "test['Credit Score'].fillna(test['Credit Score'].mean(), inplace=True)\n",
        "test['Current Loan Expenses (USD)'].fillna(test['Current Loan Expenses (USD)'].mean(), inplace=True)\n",
        "#Imputing Missing values with mode for categorical variables\n",
        "test['Gender'].fillna(test['Gender'].mode()[0], inplace=True)\n",
        "test['Income Stability'].fillna(test['Income Stability'].mode()[0], inplace=True)\n",
        "test['Property Location'].fillna(test['Property Location'].mode()[0], inplace=True)\n",
        "test['Type of Employment'].fillna(test['Type of Employment'].mode()[0], inplace=True)\n",
        "test['Has Active Credit Card'].fillna(test['Has Active Credit Card'].mode()[0], inplace=True)"
      ],
      "execution_count": null,
      "outputs": []
    },
    {
      "cell_type": "code",
      "metadata": {
        "id": "ewQXT8UjtBHb"
      },
      "source": [
        "from sklearn.compose import ColumnTransformer"
      ],
      "execution_count": null,
      "outputs": []
    },
    {
      "cell_type": "code",
      "metadata": {
        "id": "6muDJSeVa4aQ"
      },
      "source": [
        "#Identify categorical and continuous variables\n",
        "ID_col = ['Customer ID']\n",
        "target_col = [\"Loan Sanction Amount (USD)\"]\n",
        "cat_cols = ['Gender','Income Stability','Profession','Type of Employment','Location','Expense Type 1','Expense Type 2','Has Active Credit Card','Property Type','Property Location','Co-Applicant']\n",
        "cat_col_one = [2, 5, 6, 7, 8, 11, 12, 15, 19]\n",
        "idx = 0\n",
        "# for var in cat_col_one:\n",
        "#     number = LabelEncoder()\n",
        "#     labs = OneHotEncoder(categories=[var])\n",
        "#     df[cat_cols[idx]] = number.fit_transform(df[cat_cols[idx]])\n",
        "#     # ct = ColumnTransformer([(cat_cols[var], OneHotEncoder(), [var])], remainder = 'passthrough')\n",
        "#     # df = ct.fit_transform(df)\n",
        "#     # df = labs.fit_transform(df).toarray()\n",
        "#     test[cat_cols[idx]] = number.fit_transform(test[cat_cols[idx]])\n",
        "#     # test = ct.fit_transform(test)\n",
        "#     # test = labs.fit_transform(test).toarray()\n",
        "#     idx += 1\n",
        "\n",
        "for var in cat_cols:\n",
        "    # print(idx)\n",
        "    number = LabelEncoder()\n",
        "    df[var] = number.fit_transform(df[var])\n",
        "    # df = labs.fit_transform(df).toarray()\n",
        "    test[var] = number.fit_transform(test[var])\n",
        "    # test = labs.fit_transform(test).toarray()\n",
        "    idx += 1"
      ],
      "execution_count": null,
      "outputs": []
    },
    {
      "cell_type": "code",
      "metadata": {
        "id": "alFqA-FJRQ5E"
      },
      "source": [
        "# feature_col = [3, 4, 5, 9, 10, 14, 15, 18, 22]"
      ],
      "execution_count": null,
      "outputs": []
    },
    {
      "cell_type": "code",
      "metadata": {
        "id": "I8TY3qZqXLzE"
      },
      "source": [
        "feature_col = [3, 4, 5, 9, 10, 14, 18, 22]"
      ],
      "execution_count": null,
      "outputs": []
    },
    {
      "cell_type": "code",
      "metadata": {
        "id": "RSYXEPfVhHXg"
      },
      "source": [
        "\n",
        "X_train = df.iloc[:, feature_col].values\n",
        "y_train = df.iloc[:, -1].values\n",
        "X_test = test.iloc[:, feature_col].values\n",
        "\n",
        "from sklearn.linear_model import LinearRegression\n",
        "model = LinearRegression()\n",
        "model.fit(X_train, y_train)\n",
        "y_pred = model.predict(X_test)"
      ],
      "execution_count": null,
      "outputs": []
    },
    {
      "cell_type": "code",
      "metadata": {
        "id": "H4d0IM_BXFCa"
      },
      "source": [
        ""
      ],
      "execution_count": null,
      "outputs": []
    },
    {
      "cell_type": "code",
      "metadata": {
        "id": "wkIwPFhTP1S_"
      },
      "source": [
        "mean_ = np.median(y_pred)"
      ],
      "execution_count": null,
      "outputs": []
    },
    {
      "cell_type": "code",
      "metadata": {
        "id": "aT81i5rLNJvL"
      },
      "source": [
        "for i in range(len(y_pred)):\n",
        "  if y_pred[i] < 0:\n",
        "    y_pred[i] = mean_#abs(y_pred[i])"
      ],
      "execution_count": null,
      "outputs": []
    },
    {
      "cell_type": "code",
      "metadata": {
        "id": "5ZsUtmiuNDQm"
      },
      "source": [
        "test[target_col] = y_pred"
      ],
      "execution_count": null,
      "outputs": []
    },
    {
      "cell_type": "code",
      "metadata": {
        "id": "H1x4eDdvNDOM"
      },
      "source": [
        "test_res = test.iloc[:, [0,-1]]"
      ],
      "execution_count": null,
      "outputs": []
    },
    {
      "cell_type": "code",
      "metadata": {
        "colab": {
          "base_uri": "https://localhost:8080/",
          "height": 424
        },
        "id": "GKMckt9INhdz",
        "outputId": "37e7f843-b6e1-4831-da84-36bac5e885e5"
      },
      "source": [
        "test_res"
      ],
      "execution_count": null,
      "outputs": [
        {
          "output_type": "execute_result",
          "data": {
            "text/html": [
              "<div>\n",
              "<style scoped>\n",
              "    .dataframe tbody tr th:only-of-type {\n",
              "        vertical-align: middle;\n",
              "    }\n",
              "\n",
              "    .dataframe tbody tr th {\n",
              "        vertical-align: top;\n",
              "    }\n",
              "\n",
              "    .dataframe thead th {\n",
              "        text-align: right;\n",
              "    }\n",
              "</style>\n",
              "<table border=\"1\" class=\"dataframe\">\n",
              "  <thead>\n",
              "    <tr style=\"text-align: right;\">\n",
              "      <th></th>\n",
              "      <th>Customer ID</th>\n",
              "      <th>Loan Sanction Amount (USD)</th>\n",
              "    </tr>\n",
              "  </thead>\n",
              "  <tbody>\n",
              "    <tr>\n",
              "      <th>0</th>\n",
              "      <td>C-26247</td>\n",
              "      <td>84009.123086</td>\n",
              "    </tr>\n",
              "    <tr>\n",
              "      <th>1</th>\n",
              "      <td>C-35067</td>\n",
              "      <td>71739.726794</td>\n",
              "    </tr>\n",
              "    <tr>\n",
              "      <th>2</th>\n",
              "      <td>C-34590</td>\n",
              "      <td>76727.106817</td>\n",
              "    </tr>\n",
              "    <tr>\n",
              "      <th>3</th>\n",
              "      <td>C-16668</td>\n",
              "      <td>65157.704272</td>\n",
              "    </tr>\n",
              "    <tr>\n",
              "      <th>4</th>\n",
              "      <td>C-12196</td>\n",
              "      <td>56577.020839</td>\n",
              "    </tr>\n",
              "    <tr>\n",
              "      <th>...</th>\n",
              "      <td>...</td>\n",
              "      <td>...</td>\n",
              "    </tr>\n",
              "    <tr>\n",
              "      <th>19995</th>\n",
              "      <td>C-9076</td>\n",
              "      <td>76868.996427</td>\n",
              "    </tr>\n",
              "    <tr>\n",
              "      <th>19996</th>\n",
              "      <td>C-17587</td>\n",
              "      <td>20348.987955</td>\n",
              "    </tr>\n",
              "    <tr>\n",
              "      <th>19997</th>\n",
              "      <td>C-46479</td>\n",
              "      <td>39758.960474</td>\n",
              "    </tr>\n",
              "    <tr>\n",
              "      <th>19998</th>\n",
              "      <td>C-3099</td>\n",
              "      <td>73833.409760</td>\n",
              "    </tr>\n",
              "    <tr>\n",
              "      <th>19999</th>\n",
              "      <td>C-43482</td>\n",
              "      <td>76962.840975</td>\n",
              "    </tr>\n",
              "  </tbody>\n",
              "</table>\n",
              "<p>20000 rows × 2 columns</p>\n",
              "</div>"
            ],
            "text/plain": [
              "      Customer ID  Loan Sanction Amount (USD)\n",
              "0         C-26247                84009.123086\n",
              "1         C-35067                71739.726794\n",
              "2         C-34590                76727.106817\n",
              "3         C-16668                65157.704272\n",
              "4         C-12196                56577.020839\n",
              "...           ...                         ...\n",
              "19995      C-9076                76868.996427\n",
              "19996     C-17587                20348.987955\n",
              "19997     C-46479                39758.960474\n",
              "19998      C-3099                73833.409760\n",
              "19999     C-43482                76962.840975\n",
              "\n",
              "[20000 rows x 2 columns]"
            ]
          },
          "metadata": {
            "tags": []
          },
          "execution_count": 44
        }
      ]
    },
    {
      "cell_type": "code",
      "metadata": {
        "colab": {
          "base_uri": "https://localhost:8080/",
          "height": 424
        },
        "id": "yBrx2LsJNhgt",
        "outputId": "fc36ef94-9a34-40ee-8665-90c0ea3d43c0"
      },
      "source": [
        "test_res.to_csv('out.csv', index=False) \n",
        "res  = pd.read_csv('out.csv')\n",
        "res"
      ],
      "execution_count": null,
      "outputs": [
        {
          "output_type": "execute_result",
          "data": {
            "text/html": [
              "<div>\n",
              "<style scoped>\n",
              "    .dataframe tbody tr th:only-of-type {\n",
              "        vertical-align: middle;\n",
              "    }\n",
              "\n",
              "    .dataframe tbody tr th {\n",
              "        vertical-align: top;\n",
              "    }\n",
              "\n",
              "    .dataframe thead th {\n",
              "        text-align: right;\n",
              "    }\n",
              "</style>\n",
              "<table border=\"1\" class=\"dataframe\">\n",
              "  <thead>\n",
              "    <tr style=\"text-align: right;\">\n",
              "      <th></th>\n",
              "      <th>Customer ID</th>\n",
              "      <th>Loan Sanction Amount (USD)</th>\n",
              "    </tr>\n",
              "  </thead>\n",
              "  <tbody>\n",
              "    <tr>\n",
              "      <th>0</th>\n",
              "      <td>C-26247</td>\n",
              "      <td>84009.123086</td>\n",
              "    </tr>\n",
              "    <tr>\n",
              "      <th>1</th>\n",
              "      <td>C-35067</td>\n",
              "      <td>71739.726794</td>\n",
              "    </tr>\n",
              "    <tr>\n",
              "      <th>2</th>\n",
              "      <td>C-34590</td>\n",
              "      <td>76727.106817</td>\n",
              "    </tr>\n",
              "    <tr>\n",
              "      <th>3</th>\n",
              "      <td>C-16668</td>\n",
              "      <td>65157.704272</td>\n",
              "    </tr>\n",
              "    <tr>\n",
              "      <th>4</th>\n",
              "      <td>C-12196</td>\n",
              "      <td>56577.020839</td>\n",
              "    </tr>\n",
              "    <tr>\n",
              "      <th>...</th>\n",
              "      <td>...</td>\n",
              "      <td>...</td>\n",
              "    </tr>\n",
              "    <tr>\n",
              "      <th>19995</th>\n",
              "      <td>C-9076</td>\n",
              "      <td>76868.996427</td>\n",
              "    </tr>\n",
              "    <tr>\n",
              "      <th>19996</th>\n",
              "      <td>C-17587</td>\n",
              "      <td>20348.987955</td>\n",
              "    </tr>\n",
              "    <tr>\n",
              "      <th>19997</th>\n",
              "      <td>C-46479</td>\n",
              "      <td>39758.960474</td>\n",
              "    </tr>\n",
              "    <tr>\n",
              "      <th>19998</th>\n",
              "      <td>C-3099</td>\n",
              "      <td>73833.409760</td>\n",
              "    </tr>\n",
              "    <tr>\n",
              "      <th>19999</th>\n",
              "      <td>C-43482</td>\n",
              "      <td>76962.840975</td>\n",
              "    </tr>\n",
              "  </tbody>\n",
              "</table>\n",
              "<p>20000 rows × 2 columns</p>\n",
              "</div>"
            ],
            "text/plain": [
              "      Customer ID  Loan Sanction Amount (USD)\n",
              "0         C-26247                84009.123086\n",
              "1         C-35067                71739.726794\n",
              "2         C-34590                76727.106817\n",
              "3         C-16668                65157.704272\n",
              "4         C-12196                56577.020839\n",
              "...           ...                         ...\n",
              "19995      C-9076                76868.996427\n",
              "19996     C-17587                20348.987955\n",
              "19997     C-46479                39758.960474\n",
              "19998      C-3099                73833.409760\n",
              "19999     C-43482                76962.840975\n",
              "\n",
              "[20000 rows x 2 columns]"
            ]
          },
          "metadata": {
            "tags": []
          },
          "execution_count": 45
        }
      ]
    },
    {
      "cell_type": "markdown",
      "metadata": {
        "id": "0BrtJlJ8RSA0"
      },
      "source": [
        "# Using One Hot Encoding"
      ]
    },
    {
      "cell_type": "code",
      "metadata": {
        "colab": {
          "base_uri": "https://localhost:8080/"
        },
        "id": "XPNI3Qc0zGvS",
        "outputId": "fb323a9d-ad5b-4bdd-8efb-b2fd0971379e"
      },
      "source": [
        "for var in cat_cols:\n",
        "  onehotencoder = OneHotEncoder()\n",
        "  X = onehotencoder.fit_transform(df[var].values.reshape(-1,1)).toarray()\n",
        "  dfOneHot = pd.DataFrame(X, columns = [var+str(int(i)) for i in range(len(df[var].unique()))]) \n",
        "  df = pd.concat([df, dfOneHot], axis=1)\n",
        "  df= df.drop([var], axis=1) \n",
        "print(df.head())"
      ],
      "execution_count": null,
      "outputs": [
        {
          "output_type": "stream",
          "text": [
            "  Customer ID               Name  ...  Co-Applicant1  Co-Applicant2\n",
            "0     C-36995   Frederica Shealy  ...            0.0            1.0\n",
            "1     C-33999  America Calderone  ...            0.0            1.0\n",
            "2      C-3770      Rosetta Verne  ...            1.0            0.0\n",
            "3     C-26480         Zoe Chitty  ...            0.0            1.0\n",
            "4     C-23459       Afton Venema  ...            0.0            1.0\n",
            "\n",
            "[5 rows x 63 columns]\n"
          ],
          "name": "stdout"
        }
      ]
    },
    {
      "cell_type": "code",
      "metadata": {
        "colab": {
          "base_uri": "https://localhost:8080/"
        },
        "id": "MVNZoIvT2Udy",
        "outputId": "75b78175-604e-43c5-c543-f23d4a54f6c7"
      },
      "source": [
        "for var in cat_cols:\n",
        "  onehotencoder = OneHotEncoder()\n",
        "  X = onehotencoder.fit_transform(test[var].values.reshape(-1,1)).toarray()\n",
        "  testOneHot = pd.DataFrame(X, columns = [var+str(int(i)) for i in range(len(test[var].unique()))]) \n",
        "  test = pd.concat([test, testOneHot], axis=1)\n",
        "  test= test.drop([var], axis=1) \n",
        "  if var == 'Profession':\n",
        "    test['Profession7'] = 0.0\n",
        "print(test.head())"
      ],
      "execution_count": null,
      "outputs": [
        {
          "output_type": "stream",
          "text": [
            "  Customer ID              Name  ...  Co-Applicant1  Co-Applicant2\n",
            "0     C-26247  Tandra Olszewski  ...            1.0            0.0\n",
            "1     C-35067     Jeannette Cha  ...            1.0            0.0\n",
            "2     C-34590      Keva Godfrey  ...            1.0            0.0\n",
            "3     C-16668      Elva Sackett  ...            0.0            0.0\n",
            "4     C-12196    Sade Constable  ...            1.0            0.0\n",
            "\n",
            "[5 rows x 62 columns]\n"
          ],
          "name": "stdout"
        }
      ]
    },
    {
      "cell_type": "code",
      "metadata": {
        "colab": {
          "base_uri": "https://localhost:8080/"
        },
        "id": "FoE2FO_33hyY",
        "outputId": "2f01bd1c-afd9-4f7b-d9cf-5c6cbfb2557d"
      },
      "source": [
        "# s = np.union1d(df.columns, test.columns)\n",
        "# i = np.intersect1d(df.columns, test.columns)\n",
        "# s = set(s)\n",
        "# i = set(i)\n",
        "d1 = set(df.columns)\n",
        "t1 = set(test.columns)\n",
        "d1.difference(t1)"
      ],
      "execution_count": null,
      "outputs": [
        {
          "output_type": "execute_result",
          "data": {
            "text/plain": [
              "{'Loan Sanction Amount (USD)'}"
            ]
          },
          "metadata": {
            "tags": []
          },
          "execution_count": 11
        }
      ]
    },
    {
      "cell_type": "code",
      "metadata": {
        "id": "88b390lUbgXb"
      },
      "source": [
        "\n",
        "# test[test['Property Price'] == '?']\n",
        "test['Property Price'] = test['Property Price'].replace(['?'], 0)\n",
        "test['Property Price'] = test['Property Price'].astype(float)\n",
        "test['Property Price'] = test['Property Price'].replace(['?'], test['Property Price'].mean())"
      ],
      "execution_count": null,
      "outputs": []
    },
    {
      "cell_type": "code",
      "metadata": {
        "id": "1_8VPmdjMKZr",
        "colab": {
          "base_uri": "https://localhost:8080/"
        },
        "outputId": "6b81c067-f2fc-4c16-fc91-f31911f6b785"
      },
      "source": [
        "df.dtypes"
      ],
      "execution_count": null,
      "outputs": [
        {
          "output_type": "execute_result",
          "data": {
            "text/plain": [
              "Customer ID                     object\n",
              "Name                            object\n",
              "Gender                           int64\n",
              "Age                              int64\n",
              "Income (USD)                   float64\n",
              "Income Stability                 int64\n",
              "Profession                       int64\n",
              "Type of Employment               int64\n",
              "Location                         int64\n",
              "Loan Amount Request (USD)      float64\n",
              "Current Loan Expenses (USD)    float64\n",
              "Expense Type 1                   int64\n",
              "Expense Type 2                   int64\n",
              "Dependents                     float64\n",
              "Credit Score                   float64\n",
              "No. of Defaults                  int64\n",
              "Has Active Credit Card           int64\n",
              "Property ID                      int64\n",
              "Property Age                   float64\n",
              "Property Type                    int64\n",
              "Property Location                int64\n",
              "Co-Applicant                     int64\n",
              "Property Price                 float64\n",
              "Loan Sanction Amount (USD)     float64\n",
              "dtype: object"
            ]
          },
          "metadata": {
            "tags": []
          },
          "execution_count": 43
        }
      ]
    },
    {
      "cell_type": "code",
      "metadata": {
        "colab": {
          "base_uri": "https://localhost:8080/",
          "height": 652
        },
        "id": "_2MMhPrAO5pL",
        "outputId": "0fb2a80d-e460-46ef-e816-17f9568860f2"
      },
      "source": [
        "df"
      ],
      "execution_count": null,
      "outputs": [
        {
          "output_type": "execute_result",
          "data": {
            "text/html": [
              "<div>\n",
              "<style scoped>\n",
              "    .dataframe tbody tr th:only-of-type {\n",
              "        vertical-align: middle;\n",
              "    }\n",
              "\n",
              "    .dataframe tbody tr th {\n",
              "        vertical-align: top;\n",
              "    }\n",
              "\n",
              "    .dataframe thead th {\n",
              "        text-align: right;\n",
              "    }\n",
              "</style>\n",
              "<table border=\"1\" class=\"dataframe\">\n",
              "  <thead>\n",
              "    <tr style=\"text-align: right;\">\n",
              "      <th></th>\n",
              "      <th>Customer ID</th>\n",
              "      <th>Name</th>\n",
              "      <th>Gender</th>\n",
              "      <th>Age</th>\n",
              "      <th>Income (USD)</th>\n",
              "      <th>Income Stability</th>\n",
              "      <th>Profession</th>\n",
              "      <th>Type of Employment</th>\n",
              "      <th>Location</th>\n",
              "      <th>Loan Amount Request (USD)</th>\n",
              "      <th>Current Loan Expenses (USD)</th>\n",
              "      <th>Expense Type 1</th>\n",
              "      <th>Expense Type 2</th>\n",
              "      <th>Dependents</th>\n",
              "      <th>Credit Score</th>\n",
              "      <th>No. of Defaults</th>\n",
              "      <th>Has Active Credit Card</th>\n",
              "      <th>Property ID</th>\n",
              "      <th>Property Age</th>\n",
              "      <th>Property Type</th>\n",
              "      <th>Property Location</th>\n",
              "      <th>Co-Applicant</th>\n",
              "      <th>Property Price</th>\n",
              "      <th>Loan Sanction Amount (USD)</th>\n",
              "    </tr>\n",
              "  </thead>\n",
              "  <tbody>\n",
              "    <tr>\n",
              "      <th>0</th>\n",
              "      <td>C-36995</td>\n",
              "      <td>Frederica Shealy</td>\n",
              "      <td>0</td>\n",
              "      <td>56</td>\n",
              "      <td>1933.050000</td>\n",
              "      <td>1</td>\n",
              "      <td>7</td>\n",
              "      <td>14</td>\n",
              "      <td>1</td>\n",
              "      <td>72809.58</td>\n",
              "      <td>241.08</td>\n",
              "      <td>0</td>\n",
              "      <td>0</td>\n",
              "      <td>3.000000</td>\n",
              "      <td>809.440000</td>\n",
              "      <td>0</td>\n",
              "      <td>0</td>\n",
              "      <td>746</td>\n",
              "      <td>1933.05000</td>\n",
              "      <td>3</td>\n",
              "      <td>0</td>\n",
              "      <td>2</td>\n",
              "      <td>119933.46</td>\n",
              "      <td>54607.18</td>\n",
              "    </tr>\n",
              "    <tr>\n",
              "      <th>1</th>\n",
              "      <td>C-33999</td>\n",
              "      <td>America Calderone</td>\n",
              "      <td>1</td>\n",
              "      <td>32</td>\n",
              "      <td>4952.910000</td>\n",
              "      <td>1</td>\n",
              "      <td>7</td>\n",
              "      <td>8</td>\n",
              "      <td>1</td>\n",
              "      <td>46837.47</td>\n",
              "      <td>495.81</td>\n",
              "      <td>0</td>\n",
              "      <td>1</td>\n",
              "      <td>1.000000</td>\n",
              "      <td>780.400000</td>\n",
              "      <td>0</td>\n",
              "      <td>2</td>\n",
              "      <td>608</td>\n",
              "      <td>4952.91000</td>\n",
              "      <td>1</td>\n",
              "      <td>0</td>\n",
              "      <td>2</td>\n",
              "      <td>54791.00</td>\n",
              "      <td>37469.98</td>\n",
              "    </tr>\n",
              "    <tr>\n",
              "      <th>2</th>\n",
              "      <td>C-3770</td>\n",
              "      <td>Rosetta Verne</td>\n",
              "      <td>0</td>\n",
              "      <td>65</td>\n",
              "      <td>988.190000</td>\n",
              "      <td>0</td>\n",
              "      <td>3</td>\n",
              "      <td>8</td>\n",
              "      <td>1</td>\n",
              "      <td>45593.04</td>\n",
              "      <td>171.95</td>\n",
              "      <td>0</td>\n",
              "      <td>1</td>\n",
              "      <td>1.000000</td>\n",
              "      <td>833.150000</td>\n",
              "      <td>0</td>\n",
              "      <td>2</td>\n",
              "      <td>546</td>\n",
              "      <td>988.19000</td>\n",
              "      <td>1</td>\n",
              "      <td>2</td>\n",
              "      <td>1</td>\n",
              "      <td>72440.58</td>\n",
              "      <td>36474.43</td>\n",
              "    </tr>\n",
              "    <tr>\n",
              "      <th>3</th>\n",
              "      <td>C-26480</td>\n",
              "      <td>Zoe Chitty</td>\n",
              "      <td>0</td>\n",
              "      <td>65</td>\n",
              "      <td>2630.574417</td>\n",
              "      <td>0</td>\n",
              "      <td>3</td>\n",
              "      <td>8</td>\n",
              "      <td>0</td>\n",
              "      <td>80057.92</td>\n",
              "      <td>298.54</td>\n",
              "      <td>0</td>\n",
              "      <td>1</td>\n",
              "      <td>2.000000</td>\n",
              "      <td>832.700000</td>\n",
              "      <td>1</td>\n",
              "      <td>2</td>\n",
              "      <td>890</td>\n",
              "      <td>2631.11944</td>\n",
              "      <td>1</td>\n",
              "      <td>1</td>\n",
              "      <td>2</td>\n",
              "      <td>121441.51</td>\n",
              "      <td>56040.54</td>\n",
              "    </tr>\n",
              "    <tr>\n",
              "      <th>4</th>\n",
              "      <td>C-23459</td>\n",
              "      <td>Afton Venema</td>\n",
              "      <td>0</td>\n",
              "      <td>31</td>\n",
              "      <td>2614.770000</td>\n",
              "      <td>1</td>\n",
              "      <td>7</td>\n",
              "      <td>6</td>\n",
              "      <td>1</td>\n",
              "      <td>113858.89</td>\n",
              "      <td>491.41</td>\n",
              "      <td>0</td>\n",
              "      <td>1</td>\n",
              "      <td>2.253027</td>\n",
              "      <td>745.550000</td>\n",
              "      <td>1</td>\n",
              "      <td>0</td>\n",
              "      <td>715</td>\n",
              "      <td>2614.77000</td>\n",
              "      <td>3</td>\n",
              "      <td>1</td>\n",
              "      <td>2</td>\n",
              "      <td>208567.91</td>\n",
              "      <td>74008.28</td>\n",
              "    </tr>\n",
              "    <tr>\n",
              "      <th>...</th>\n",
              "      <td>...</td>\n",
              "      <td>...</td>\n",
              "      <td>...</td>\n",
              "      <td>...</td>\n",
              "      <td>...</td>\n",
              "      <td>...</td>\n",
              "      <td>...</td>\n",
              "      <td>...</td>\n",
              "      <td>...</td>\n",
              "      <td>...</td>\n",
              "      <td>...</td>\n",
              "      <td>...</td>\n",
              "      <td>...</td>\n",
              "      <td>...</td>\n",
              "      <td>...</td>\n",
              "      <td>...</td>\n",
              "      <td>...</td>\n",
              "      <td>...</td>\n",
              "      <td>...</td>\n",
              "      <td>...</td>\n",
              "      <td>...</td>\n",
              "      <td>...</td>\n",
              "      <td>...</td>\n",
              "      <td>...</td>\n",
              "    </tr>\n",
              "    <tr>\n",
              "      <th>29995</th>\n",
              "      <td>C-43723</td>\n",
              "      <td>Angelyn Clevenger</td>\n",
              "      <td>1</td>\n",
              "      <td>38</td>\n",
              "      <td>4969.410000</td>\n",
              "      <td>1</td>\n",
              "      <td>1</td>\n",
              "      <td>10</td>\n",
              "      <td>2</td>\n",
              "      <td>76657.90</td>\n",
              "      <td>722.34</td>\n",
              "      <td>1</td>\n",
              "      <td>1</td>\n",
              "      <td>2.000000</td>\n",
              "      <td>869.610000</td>\n",
              "      <td>0</td>\n",
              "      <td>2</td>\n",
              "      <td>566</td>\n",
              "      <td>4969.41000</td>\n",
              "      <td>3</td>\n",
              "      <td>2</td>\n",
              "      <td>2</td>\n",
              "      <td>111096.56</td>\n",
              "      <td>68992.11</td>\n",
              "    </tr>\n",
              "    <tr>\n",
              "      <th>29996</th>\n",
              "      <td>C-32511</td>\n",
              "      <td>Silas Slaugh</td>\n",
              "      <td>1</td>\n",
              "      <td>20</td>\n",
              "      <td>1606.880000</td>\n",
              "      <td>1</td>\n",
              "      <td>7</td>\n",
              "      <td>8</td>\n",
              "      <td>1</td>\n",
              "      <td>66595.14</td>\n",
              "      <td>253.04</td>\n",
              "      <td>0</td>\n",
              "      <td>0</td>\n",
              "      <td>3.000000</td>\n",
              "      <td>729.410000</td>\n",
              "      <td>0</td>\n",
              "      <td>1</td>\n",
              "      <td>175</td>\n",
              "      <td>1606.88000</td>\n",
              "      <td>2</td>\n",
              "      <td>2</td>\n",
              "      <td>2</td>\n",
              "      <td>73453.94</td>\n",
              "      <td>46616.60</td>\n",
              "    </tr>\n",
              "    <tr>\n",
              "      <th>29997</th>\n",
              "      <td>C-5192</td>\n",
              "      <td>Carmelo Lone</td>\n",
              "      <td>0</td>\n",
              "      <td>49</td>\n",
              "      <td>2630.574417</td>\n",
              "      <td>1</td>\n",
              "      <td>7</td>\n",
              "      <td>14</td>\n",
              "      <td>2</td>\n",
              "      <td>81410.08</td>\n",
              "      <td>583.11</td>\n",
              "      <td>0</td>\n",
              "      <td>1</td>\n",
              "      <td>2.253027</td>\n",
              "      <td>739.885381</td>\n",
              "      <td>0</td>\n",
              "      <td>0</td>\n",
              "      <td>959</td>\n",
              "      <td>2631.11944</td>\n",
              "      <td>0</td>\n",
              "      <td>0</td>\n",
              "      <td>2</td>\n",
              "      <td>102108.02</td>\n",
              "      <td>61057.56</td>\n",
              "    </tr>\n",
              "    <tr>\n",
              "      <th>29998</th>\n",
              "      <td>C-12172</td>\n",
              "      <td>Carolann Osby</td>\n",
              "      <td>1</td>\n",
              "      <td>38</td>\n",
              "      <td>2417.710000</td>\n",
              "      <td>1</td>\n",
              "      <td>7</td>\n",
              "      <td>16</td>\n",
              "      <td>1</td>\n",
              "      <td>142524.10</td>\n",
              "      <td>378.29</td>\n",
              "      <td>0</td>\n",
              "      <td>1</td>\n",
              "      <td>3.000000</td>\n",
              "      <td>677.270000</td>\n",
              "      <td>1</td>\n",
              "      <td>2</td>\n",
              "      <td>375</td>\n",
              "      <td>2417.71000</td>\n",
              "      <td>3</td>\n",
              "      <td>2</td>\n",
              "      <td>2</td>\n",
              "      <td>168194.47</td>\n",
              "      <td>99766.87</td>\n",
              "    </tr>\n",
              "    <tr>\n",
              "      <th>29999</th>\n",
              "      <td>C-33003</td>\n",
              "      <td>Bridget Garibaldi</td>\n",
              "      <td>0</td>\n",
              "      <td>63</td>\n",
              "      <td>3068.240000</td>\n",
              "      <td>0</td>\n",
              "      <td>3</td>\n",
              "      <td>8</td>\n",
              "      <td>0</td>\n",
              "      <td>156290.54</td>\n",
              "      <td>693.94</td>\n",
              "      <td>0</td>\n",
              "      <td>1</td>\n",
              "      <td>1.000000</td>\n",
              "      <td>815.440000</td>\n",
              "      <td>0</td>\n",
              "      <td>0</td>\n",
              "      <td>344</td>\n",
              "      <td>3068.24000</td>\n",
              "      <td>2</td>\n",
              "      <td>0</td>\n",
              "      <td>2</td>\n",
              "      <td>194512.60</td>\n",
              "      <td>117217.90</td>\n",
              "    </tr>\n",
              "  </tbody>\n",
              "</table>\n",
              "<p>30000 rows × 24 columns</p>\n",
              "</div>"
            ],
            "text/plain": [
              "      Customer ID  ... Loan Sanction Amount (USD)\n",
              "0         C-36995  ...                   54607.18\n",
              "1         C-33999  ...                   37469.98\n",
              "2          C-3770  ...                   36474.43\n",
              "3         C-26480  ...                   56040.54\n",
              "4         C-23459  ...                   74008.28\n",
              "...           ...  ...                        ...\n",
              "29995     C-43723  ...                   68992.11\n",
              "29996     C-32511  ...                   46616.60\n",
              "29997      C-5192  ...                   61057.56\n",
              "29998     C-12172  ...                   99766.87\n",
              "29999     C-33003  ...                  117217.90\n",
              "\n",
              "[30000 rows x 24 columns]"
            ]
          },
          "metadata": {
            "tags": []
          },
          "execution_count": 55
        }
      ]
    },
    {
      "cell_type": "markdown",
      "metadata": {
        "id": "PdmO0PzCQ7rL"
      },
      "source": [
        ""
      ]
    },
    {
      "cell_type": "code",
      "metadata": {
        "id": "TT0vbDepNhjP"
      },
      "source": [
        ""
      ],
      "execution_count": null,
      "outputs": []
    },
    {
      "cell_type": "code",
      "metadata": {
        "id": "VNo6B4g7NhmR"
      },
      "source": [
        ""
      ],
      "execution_count": null,
      "outputs": []
    },
    {
      "cell_type": "code",
      "metadata": {
        "id": "G-fwwIyF6uKw"
      },
      "source": [
        "train_res = [12]"
      ],
      "execution_count": null,
      "outputs": []
    },
    {
      "cell_type": "code",
      "metadata": {
        "id": "OXnPo-DX6k18"
      },
      "source": [
        "train_test_except = [0, 1]"
      ],
      "execution_count": null,
      "outputs": []
    },
    {
      "cell_type": "code",
      "metadata": {
        "id": "lPkJ38gt7Qlf"
      },
      "source": [
        "df = df[['Customer ID', 'Name', 'Age', 'Income (USD)', 'Loan Amount Request (USD)', 'Current Loan Expenses (USD)', 'Dependents', 'Credit Score', 'No. of Defaults', 'Property ID', 'Property Age', 'Property Price', 'Gender0', 'Gender1', 'Income Stability0', 'Income Stability1', 'Profession0', 'Profession1', 'Profession2', 'Profession3', 'Profession4', 'Profession5', 'Profession6', 'Profession7', 'Type of Employment0', 'Type of Employment1', 'Type of Employment2', 'Type of Employment3', 'Type of Employment4', 'Type of Employment5', 'Type of Employment6', 'Type of Employment7', 'Type of Employment8', 'Type of Employment9', 'Type of Employment10', 'Type of Employment11', 'Type of Employment12', 'Type of Employment13', 'Type of Employment14', 'Type of Employment15', 'Type of Employment16', 'Type of Employment17', 'Location0', 'Location1', 'Location2', 'Expense Type 10', 'Expense Type 11', 'Expense Type 20', 'Expense Type 21', 'Has Active Credit Card0', 'Has Active Credit Card1', 'Has Active Credit Card2', 'Property Type0', 'Property Type1', 'Property Type2', 'Property Type3', 'Property Location0', 'Property Location1', 'Property Location2', 'Co-Applicant0', 'Co-Applicant1', 'Co-Applicant2', 'Loan Sanction Amount (USD)']]"
      ],
      "execution_count": null,
      "outputs": []
    },
    {
      "cell_type": "code",
      "metadata": {
        "id": "1xJqt07KKEMh"
      },
      "source": [
        "X_train = df.iloc[:, 2:-1].values\n",
        "y_train = df.iloc[:, -1].values\n",
        "X_test = test.iloc[:, 2:].values"
      ],
      "execution_count": null,
      "outputs": []
    },
    {
      "cell_type": "code",
      "metadata": {
        "id": "nc0FdkWaJj8B"
      },
      "source": [
        "from sklearn.linear_model import LinearRegression\n",
        "model = LinearRegression()\n",
        "model.fit(X_train, y_train)\n",
        "y_pred = model.predict(X_test)"
      ],
      "execution_count": null,
      "outputs": []
    },
    {
      "cell_type": "markdown",
      "metadata": {
        "id": "J5I6FeD9Shpf"
      },
      "source": [
        "# Poly Reg"
      ]
    },
    {
      "cell_type": "code",
      "metadata": {
        "id": "Pjh6tVcmApt2"
      },
      "source": [
        "from sklearn.preprocessing import PolynomialFeatures\n",
        "# lin_reg = LinearRegression()\n",
        "# lin_reg.fit(X_train, y_train)\n",
        "poly_reg = PolynomialFeatures(degree=2)\n",
        "X_poly = poly_reg.fit_transform(X_train)\n",
        "lin_reg_2 = LinearRegression()\n",
        "lin_reg_2.fit(X_poly, y_train)\n",
        "test_res_poly = lin_reg_2.predict(poly_reg.fit_transform(X_test))"
      ],
      "execution_count": null,
      "outputs": []
    },
    {
      "cell_type": "markdown",
      "metadata": {
        "id": "cWVLt4iGSd2G"
      },
      "source": [
        "# SVM"
      ]
    },
    {
      "cell_type": "code",
      "metadata": {
        "id": "4IcXgq2OIJO7"
      },
      "source": [
        "from sklearn.preprocessing import StandardScaler\n",
        "sc_X = StandardScaler()\n",
        "X_train = sc_X.fit_transform(X_train)\n",
        "X_test = sc_X.transform(X_test)\n",
        "sc_y = StandardScaler()\n",
        "y_train = sc_y.fit_transform(y_train.reshape(-1,1))"
      ],
      "execution_count": null,
      "outputs": []
    },
    {
      "cell_type": "code",
      "metadata": {
        "id": "1ybRiGuxHZHE"
      },
      "source": [
        "from sklearn.svm import SVR\n",
        "regressor = SVR(kernel = 'rbf')\n",
        "regressor.fit(X_train, y_train.reshape(30000, ))\n",
        "y_pred = model.predict(X_test)"
      ],
      "execution_count": null,
      "outputs": []
    },
    {
      "cell_type": "code",
      "metadata": {
        "id": "x4m7mgLJSOTZ"
      },
      "source": [
        ""
      ],
      "execution_count": null,
      "outputs": []
    },
    {
      "cell_type": "code",
      "metadata": {
        "id": "hOiWFs6CHZEK"
      },
      "source": [
        "y_pred_is = sc_y.inverse_transform(y_pred)"
      ],
      "execution_count": null,
      "outputs": []
    },
    {
      "cell_type": "code",
      "metadata": {
        "id": "Y4MSo8aIHZBS",
        "colab": {
          "base_uri": "https://localhost:8080/"
        },
        "outputId": "c47f1dd3-9341-4678-e314-b5d817ecfecc"
      },
      "source": [
        "y_pred_is"
      ],
      "execution_count": null,
      "outputs": [
        {
          "output_type": "execute_result",
          "data": {
            "text/plain": [
              "array([-5.92851161e+09, -5.92559195e+09, -5.94869156e+09, ...,\n",
              "       -5.94208814e+09, -5.91842327e+09, -6.00456340e+09])"
            ]
          },
          "metadata": {
            "tags": []
          },
          "execution_count": 101
        }
      ]
    },
    {
      "cell_type": "code",
      "metadata": {
        "id": "BeHkQjBtHYj3"
      },
      "source": [
        ""
      ],
      "execution_count": null,
      "outputs": []
    },
    {
      "cell_type": "code",
      "metadata": {
        "id": "6iQudFX8F9Tf"
      },
      "source": [
        "for i in range(len(test_res_poly)):\n",
        "  if test_res_poly[i] <= 0:\n",
        "    test_res_poly[i] = 0"
      ],
      "execution_count": null,
      "outputs": []
    },
    {
      "cell_type": "code",
      "metadata": {
        "id": "48R0ksu8Dl0W"
      },
      "source": [
        "test[target_col] = test_res_poly\n",
        "test_res_poly_df = test.iloc[:, [0,-1]]\n",
        "# test_res_poly_df['Loan Sanction Amount (USD)'] = test_res_poly"
      ],
      "execution_count": null,
      "outputs": []
    },
    {
      "cell_type": "code",
      "metadata": {
        "colab": {
          "base_uri": "https://localhost:8080/"
        },
        "id": "iFuPNvGVG43J",
        "outputId": "7d243e6c-b824-4b98-93b2-0aef7e54446f"
      },
      "source": [
        "test_res_poly"
      ],
      "execution_count": null,
      "outputs": [
        {
          "output_type": "execute_result",
          "data": {
            "text/plain": [
              "array([87418.7044967 , 68419.35847336, 47159.3388993 , ...,\n",
              "        3587.70392258, 58122.53289673, 69833.42608412])"
            ]
          },
          "metadata": {
            "tags": []
          },
          "execution_count": 49
        }
      ]
    },
    {
      "cell_type": "code",
      "metadata": {
        "id": "D2e4vHNbER0J"
      },
      "source": [
        "test_res_poly_df.to_csv('out_poly.csv', index=False) "
      ],
      "execution_count": null,
      "outputs": []
    },
    {
      "cell_type": "code",
      "metadata": {
        "colab": {
          "base_uri": "https://localhost:8080/",
          "height": 424
        },
        "id": "fJjSbUiEEXur",
        "outputId": "bc512761-8bdd-45eb-e072-f1b93371a217"
      },
      "source": [
        "res  = pd.read_csv('out_poly.csv')\n",
        "res"
      ],
      "execution_count": null,
      "outputs": [
        {
          "output_type": "execute_result",
          "data": {
            "text/html": [
              "<div>\n",
              "<style scoped>\n",
              "    .dataframe tbody tr th:only-of-type {\n",
              "        vertical-align: middle;\n",
              "    }\n",
              "\n",
              "    .dataframe tbody tr th {\n",
              "        vertical-align: top;\n",
              "    }\n",
              "\n",
              "    .dataframe thead th {\n",
              "        text-align: right;\n",
              "    }\n",
              "</style>\n",
              "<table border=\"1\" class=\"dataframe\">\n",
              "  <thead>\n",
              "    <tr style=\"text-align: right;\">\n",
              "      <th></th>\n",
              "      <th>Customer ID</th>\n",
              "      <th>Loan Sanction Amount (USD)</th>\n",
              "    </tr>\n",
              "  </thead>\n",
              "  <tbody>\n",
              "    <tr>\n",
              "      <th>0</th>\n",
              "      <td>C-26247</td>\n",
              "      <td>87418.704497</td>\n",
              "    </tr>\n",
              "    <tr>\n",
              "      <th>1</th>\n",
              "      <td>C-35067</td>\n",
              "      <td>68419.358473</td>\n",
              "    </tr>\n",
              "    <tr>\n",
              "      <th>2</th>\n",
              "      <td>C-34590</td>\n",
              "      <td>47159.338899</td>\n",
              "    </tr>\n",
              "    <tr>\n",
              "      <th>3</th>\n",
              "      <td>C-16668</td>\n",
              "      <td>63013.686527</td>\n",
              "    </tr>\n",
              "    <tr>\n",
              "      <th>4</th>\n",
              "      <td>C-12196</td>\n",
              "      <td>66022.771280</td>\n",
              "    </tr>\n",
              "    <tr>\n",
              "      <th>...</th>\n",
              "      <td>...</td>\n",
              "      <td>...</td>\n",
              "    </tr>\n",
              "    <tr>\n",
              "      <th>19995</th>\n",
              "      <td>C-9076</td>\n",
              "      <td>70809.148984</td>\n",
              "    </tr>\n",
              "    <tr>\n",
              "      <th>19996</th>\n",
              "      <td>C-17587</td>\n",
              "      <td>26759.594207</td>\n",
              "    </tr>\n",
              "    <tr>\n",
              "      <th>19997</th>\n",
              "      <td>C-46479</td>\n",
              "      <td>3587.703923</td>\n",
              "    </tr>\n",
              "    <tr>\n",
              "      <th>19998</th>\n",
              "      <td>C-3099</td>\n",
              "      <td>58122.532897</td>\n",
              "    </tr>\n",
              "    <tr>\n",
              "      <th>19999</th>\n",
              "      <td>C-43482</td>\n",
              "      <td>69833.426084</td>\n",
              "    </tr>\n",
              "  </tbody>\n",
              "</table>\n",
              "<p>20000 rows × 2 columns</p>\n",
              "</div>"
            ],
            "text/plain": [
              "      Customer ID  Loan Sanction Amount (USD)\n",
              "0         C-26247                87418.704497\n",
              "1         C-35067                68419.358473\n",
              "2         C-34590                47159.338899\n",
              "3         C-16668                63013.686527\n",
              "4         C-12196                66022.771280\n",
              "...           ...                         ...\n",
              "19995      C-9076                70809.148984\n",
              "19996     C-17587                26759.594207\n",
              "19997     C-46479                 3587.703923\n",
              "19998      C-3099                58122.532897\n",
              "19999     C-43482                69833.426084\n",
              "\n",
              "[20000 rows x 2 columns]"
            ]
          },
          "metadata": {
            "tags": []
          },
          "execution_count": 51
        }
      ]
    },
    {
      "cell_type": "code",
      "metadata": {
        "id": "LVXEEYeKEZzK"
      },
      "source": [
        ""
      ],
      "execution_count": null,
      "outputs": []
    },
    {
      "cell_type": "code",
      "metadata": {
        "id": "aRknT_WVdtPD"
      },
      "source": [
        "test[target_col] = y_pred"
      ],
      "execution_count": null,
      "outputs": []
    },
    {
      "cell_type": "code",
      "metadata": {
        "id": "NlI0HQHMdzZ2"
      },
      "source": [
        "test_res = test.iloc[:, [0,-1]]"
      ],
      "execution_count": null,
      "outputs": []
    },
    {
      "cell_type": "code",
      "metadata": {
        "colab": {
          "base_uri": "https://localhost:8080/",
          "height": 424
        },
        "id": "Tdhxe6wgeE7X",
        "outputId": "b464222a-89c0-471d-be56-c49f9d19955a"
      },
      "source": [
        "test_res"
      ],
      "execution_count": null,
      "outputs": [
        {
          "output_type": "execute_result",
          "data": {
            "text/html": [
              "<div>\n",
              "<style scoped>\n",
              "    .dataframe tbody tr th:only-of-type {\n",
              "        vertical-align: middle;\n",
              "    }\n",
              "\n",
              "    .dataframe tbody tr th {\n",
              "        vertical-align: top;\n",
              "    }\n",
              "\n",
              "    .dataframe thead th {\n",
              "        text-align: right;\n",
              "    }\n",
              "</style>\n",
              "<table border=\"1\" class=\"dataframe\">\n",
              "  <thead>\n",
              "    <tr style=\"text-align: right;\">\n",
              "      <th></th>\n",
              "      <th>Customer ID</th>\n",
              "      <th>Loan Sanction Amount (USD)</th>\n",
              "    </tr>\n",
              "  </thead>\n",
              "  <tbody>\n",
              "    <tr>\n",
              "      <th>0</th>\n",
              "      <td>C-26247</td>\n",
              "      <td>-123649.967584</td>\n",
              "    </tr>\n",
              "    <tr>\n",
              "      <th>1</th>\n",
              "      <td>C-35067</td>\n",
              "      <td>-123589.073207</td>\n",
              "    </tr>\n",
              "    <tr>\n",
              "      <th>2</th>\n",
              "      <td>C-34590</td>\n",
              "      <td>-124070.854043</td>\n",
              "    </tr>\n",
              "    <tr>\n",
              "      <th>3</th>\n",
              "      <td>C-16668</td>\n",
              "      <td>-131186.479319</td>\n",
              "    </tr>\n",
              "    <tr>\n",
              "      <th>4</th>\n",
              "      <td>C-12196</td>\n",
              "      <td>-131400.957453</td>\n",
              "    </tr>\n",
              "    <tr>\n",
              "      <th>...</th>\n",
              "      <td>...</td>\n",
              "      <td>...</td>\n",
              "    </tr>\n",
              "    <tr>\n",
              "      <th>19995</th>\n",
              "      <td>C-9076</td>\n",
              "      <td>-123871.130308</td>\n",
              "    </tr>\n",
              "    <tr>\n",
              "      <th>19996</th>\n",
              "      <td>C-17587</td>\n",
              "      <td>-123821.616152</td>\n",
              "    </tr>\n",
              "    <tr>\n",
              "      <th>19997</th>\n",
              "      <td>C-46479</td>\n",
              "      <td>-123933.128825</td>\n",
              "    </tr>\n",
              "    <tr>\n",
              "      <th>19998</th>\n",
              "      <td>C-3099</td>\n",
              "      <td>-123439.558607</td>\n",
              "    </tr>\n",
              "    <tr>\n",
              "      <th>19999</th>\n",
              "      <td>C-43482</td>\n",
              "      <td>-125236.154347</td>\n",
              "    </tr>\n",
              "  </tbody>\n",
              "</table>\n",
              "<p>20000 rows × 2 columns</p>\n",
              "</div>"
            ],
            "text/plain": [
              "      Customer ID  Loan Sanction Amount (USD)\n",
              "0         C-26247              -123649.967584\n",
              "1         C-35067              -123589.073207\n",
              "2         C-34590              -124070.854043\n",
              "3         C-16668              -131186.479319\n",
              "4         C-12196              -131400.957453\n",
              "...           ...                         ...\n",
              "19995      C-9076              -123871.130308\n",
              "19996     C-17587              -123821.616152\n",
              "19997     C-46479              -123933.128825\n",
              "19998      C-3099              -123439.558607\n",
              "19999     C-43482              -125236.154347\n",
              "\n",
              "[20000 rows x 2 columns]"
            ]
          },
          "metadata": {
            "tags": []
          },
          "execution_count": 99
        }
      ]
    },
    {
      "cell_type": "code",
      "metadata": {
        "id": "1QnEzh9jeUK1"
      },
      "source": [
        "test_res.to_csv('out.csv', index=False) \n",
        "res  = pd.read_csv('out.csv')\n",
        "res"
      ],
      "execution_count": null,
      "outputs": []
    },
    {
      "cell_type": "code",
      "metadata": {
        "id": "HwaRQr8Yehdr"
      },
      "source": [
        "res  = pd.read_csv('out.csv')"
      ],
      "execution_count": null,
      "outputs": []
    },
    {
      "cell_type": "code",
      "metadata": {
        "colab": {
          "base_uri": "https://localhost:8080/",
          "height": 424
        },
        "id": "1r_16YIgemlR",
        "outputId": "b01539a9-c295-4526-be82-fd3517856e19"
      },
      "source": [
        "res"
      ],
      "execution_count": null,
      "outputs": [
        {
          "output_type": "execute_result",
          "data": {
            "text/html": [
              "<div>\n",
              "<style scoped>\n",
              "    .dataframe tbody tr th:only-of-type {\n",
              "        vertical-align: middle;\n",
              "    }\n",
              "\n",
              "    .dataframe tbody tr th {\n",
              "        vertical-align: top;\n",
              "    }\n",
              "\n",
              "    .dataframe thead th {\n",
              "        text-align: right;\n",
              "    }\n",
              "</style>\n",
              "<table border=\"1\" class=\"dataframe\">\n",
              "  <thead>\n",
              "    <tr style=\"text-align: right;\">\n",
              "      <th></th>\n",
              "      <th>Customer ID</th>\n",
              "      <th>Loan Sanction Amount (USD)</th>\n",
              "    </tr>\n",
              "  </thead>\n",
              "  <tbody>\n",
              "    <tr>\n",
              "      <th>0</th>\n",
              "      <td>C-26247</td>\n",
              "      <td>3.018537e+05</td>\n",
              "    </tr>\n",
              "    <tr>\n",
              "      <th>1</th>\n",
              "      <td>C-35067</td>\n",
              "      <td>1.012198e+06</td>\n",
              "    </tr>\n",
              "    <tr>\n",
              "      <th>2</th>\n",
              "      <td>C-34590</td>\n",
              "      <td>1.011637e+06</td>\n",
              "    </tr>\n",
              "    <tr>\n",
              "      <th>3</th>\n",
              "      <td>C-16668</td>\n",
              "      <td>-7.414275e+05</td>\n",
              "    </tr>\n",
              "    <tr>\n",
              "      <th>4</th>\n",
              "      <td>C-12196</td>\n",
              "      <td>-9.841180e+05</td>\n",
              "    </tr>\n",
              "    <tr>\n",
              "      <th>...</th>\n",
              "      <td>...</td>\n",
              "      <td>...</td>\n",
              "    </tr>\n",
              "    <tr>\n",
              "      <th>19995</th>\n",
              "      <td>C-9076</td>\n",
              "      <td>2.942496e+05</td>\n",
              "    </tr>\n",
              "    <tr>\n",
              "      <th>19996</th>\n",
              "      <td>C-17587</td>\n",
              "      <td>1.013387e+06</td>\n",
              "    </tr>\n",
              "    <tr>\n",
              "      <th>19997</th>\n",
              "      <td>C-46479</td>\n",
              "      <td>1.253754e+06</td>\n",
              "    </tr>\n",
              "    <tr>\n",
              "      <th>19998</th>\n",
              "      <td>C-3099</td>\n",
              "      <td>1.011539e+06</td>\n",
              "    </tr>\n",
              "    <tr>\n",
              "      <th>19999</th>\n",
              "      <td>C-43482</td>\n",
              "      <td>1.247604e+06</td>\n",
              "    </tr>\n",
              "  </tbody>\n",
              "</table>\n",
              "<p>20000 rows × 2 columns</p>\n",
              "</div>"
            ],
            "text/plain": [
              "      Customer ID  Loan Sanction Amount (USD)\n",
              "0         C-26247                3.018537e+05\n",
              "1         C-35067                1.012198e+06\n",
              "2         C-34590                1.011637e+06\n",
              "3         C-16668               -7.414275e+05\n",
              "4         C-12196               -9.841180e+05\n",
              "...           ...                         ...\n",
              "19995      C-9076                2.942496e+05\n",
              "19996     C-17587                1.013387e+06\n",
              "19997     C-46479                1.253754e+06\n",
              "19998      C-3099                1.011539e+06\n",
              "19999     C-43482                1.247604e+06\n",
              "\n",
              "[20000 rows x 2 columns]"
            ]
          },
          "metadata": {
            "tags": []
          },
          "execution_count": 26
        }
      ]
    }
  ]
}